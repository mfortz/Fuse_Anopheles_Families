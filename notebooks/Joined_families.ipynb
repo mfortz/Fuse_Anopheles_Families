{
 "cells": [
  {
   "cell_type": "markdown",
   "metadata": {},
   "source": [
    "# Effects of joining pairs of families on silhouette"
   ]
  },
  {
   "cell_type": "markdown",
   "metadata": {},
   "source": [
    "In the \"previous notebook\", we examined the silhouette coefficient of the existing family clustering with Neighborhood Correlation (NC) and Synteny Correlation (SC) scores applied as edge weights. Now we want to join families together and analyse the effect of this joining to the silhouette of the new families. More specifically, we want to learn if joining candidate families produces a better silhouette than the original families. If so, we are also interested in comparing this the improvement on candidate families to the effects of joining non-candidate pairs.\n",
    "\n",
    "Since it is computationally expensive to examine all pairs of families, we will consider random and semi-random pairs of families. The following sets of family pairs will be analyzed:\n",
    "* Candidate pairs\n",
    "* Purely random pairs \n",
    "* Random pairs from complementary sets of species\n",
    "* Random pairs with a shared neighbor $F_3$ \n",
    "\n",
    "Notice that the last two criteria when combined is the basis for finding candidate pairs. "
   ]
  },
  {
   "cell_type": "code",
   "execution_count": 1,
   "metadata": {
    "collapsed": true
   },
   "outputs": [],
   "source": [
    "# Preamble\n",
    "import sys, math, random, itertools\n",
    "import matplotlib, matplotlib.pyplot as plt\n",
    "import numpy as np\n",
    "\n",
    "% run -i ../scripts/structures/main.py ../data/gene_families/modified_ALL_GENE_file"
   ]
  },
  {
   "cell_type": "code",
   "execution_count": null,
   "metadata": {
    "collapsed": true
   },
   "outputs": [],
   "source": [
    "#Hiding the scripts\n",
    "from IPython.display import HTML\n",
    "HTML('''<script>\n",
    "code_show=true; \n",
    "function code_toggle() {\n",
    " if (code_show){\n",
    " $('div.input').hide();\n",
    " } else {\n",
    " $('div.input').show();\n",
    " }\n",
    " code_show = !code_show\n",
    "} \n",
    "$( document ).ready(code_toggle);\n",
    "</script>\n",
    "The raw code for this IPython notebook is by default hidden for easier reading.\n",
    "To toggle on/off the raw code, click <a href=\"javascript:code_toggle()\">here</a>.''')"
   ]
  },
  {
   "cell_type": "markdown",
   "metadata": {},
   "source": [
    "The script below allows us to specify the number of random pairs to examine."
   ]
  },
  {
   "cell_type": "code",
   "execution_count": 2,
   "metadata": {},
   "outputs": [
    {
     "name": "stdout",
     "output_type": "stream",
     "text": [
      "We produce a sample of 5000 random families.\n"
     ]
    }
   ],
   "source": [
    "# specify number of random families to produce\n",
    "\n",
    "n_rand = 5000     #number of random families\n",
    "\n",
    "print(\"We produce a sample of\",n_rand,\"random families.\")"
   ]
  },
  {
   "cell_type": "markdown",
   "metadata": {},
   "source": [
    "Create random pairs from the full list of families. With the current algorithm, there is a small chance that some pairs will be repeated. It remains to be seen if these duplicates wil have a significant impact on our results."
   ]
  },
  {
   "cell_type": "code",
   "execution_count": 3,
   "metadata": {
    "collapsed": true
   },
   "outputs": [],
   "source": [
    "famListFull = list(data.familiesDict.keys())\n",
    "geneListFull = list(data.genesDict.keys())"
   ]
  },
  {
   "cell_type": "code",
   "execution_count": 4,
   "metadata": {
    "collapsed": true
   },
   "outputs": [],
   "source": [
    "# Helper functions\n",
    "# Gives a list of family members for each family\n",
    "\n",
    "membersList = {}\n",
    "\n",
    "for famName in data.familiesDict:\n",
    "    currentFam = data.familiesDict[famName]\n",
    "    \n",
    "    geneObjectList = []\n",
    "    \n",
    "    for s in data.speciesDict:\n",
    "        geneObjectList += currentFam.familyMembersDict[s]\n",
    "        \n",
    "    membersList[famName] = [g.gene for g in geneObjectList]"
   ]
  },
  {
   "cell_type": "markdown",
   "metadata": {},
   "source": [
    "Silhouette computations."
   ]
  },
  {
   "cell_type": "code",
   "execution_count": 10,
   "metadata": {
    "collapsed": true
   },
   "outputs": [],
   "source": [
    "# Load NC and SC score file\n",
    "\n",
    "scoreFile = open(\"../data/GenFamClust_files/GenFam.syc\",'r').readlines()"
   ]
  },
  {
   "cell_type": "code",
   "execution_count": 11,
   "metadata": {
    "collapsed": true
   },
   "outputs": [],
   "source": [
    "# Translate GenFam index to true gene names\n",
    "\n",
    "translation = open(\"../data/GenFamClust_files/gene_name_translation.txt\", 'r').readlines()\n",
    "\n",
    "geneName = {}\n",
    "\n",
    "for l in translation:\n",
    "    x = l.split()\n",
    "    indexName = x[0]\n",
    "    trueName = x[1]\n",
    "    geneName[indexName] = trueName"
   ]
  },
  {
   "cell_type": "code",
   "execution_count": 12,
   "metadata": {},
   "outputs": [],
   "source": [
    "# Helper function\n",
    "\n",
    "# Dictionary that maps gene pairs to NC and SC scores\n",
    "scoreDict = {}\n",
    "\n",
    "# Dictionary that maps family pairs to edges between them\n",
    "# Note that GenFam.syc contains two entries for each pair: (g1,g2) and (g2,g1). These have the same scores.\n",
    "# Therefore, key (f1,f2) is equal to (f2,f1), and (f1,f1) image needs to be halved.\n",
    "numEdgesDict = {}\n",
    "\n",
    "for l in scoreFile:\n",
    "    x = l.split()\n",
    "    g1 = geneName[x[0]]\n",
    "    g2 = geneName[x[1]]\n",
    "    NC = float(x[2])\n",
    "    SC = float(x[3])\n",
    "    \n",
    "    scoreDict[(g1,g2)] = (NC, SC)\n",
    "    \n",
    "    f1 = data.genesDict[g1].family\n",
    "    f2 = data.genesDict[g2].family\n",
    "    \n",
    "    try:\n",
    "        numEdgesDict[(f1,f2)] += 1\n",
    "    except KeyError:\n",
    "        numEdgesDict[(f1,f2)] = 1\n",
    "    "
   ]
  },
  {
   "cell_type": "code",
   "execution_count": 6,
   "metadata": {
    "collapsed": true
   },
   "outputs": [],
   "source": [
    "# Computes silhouette for a gene\n",
    "\n",
    "\n",
    "\n",
    "def geneCohesion(x,ownFam):    \n",
    "    familyList = revisedMembersList[ownFam]\n",
    "    NCsum = 0\n",
    "    SCsum = 0\n",
    "    \n",
    "    if len(familyList) > 1:\n",
    "        for g in familyList:\n",
    "            if (x,g) in scoreDict:\n",
    "                NC, SC = scoreDict[(x,g)]\n",
    "\n",
    "                NCsum += NC\n",
    "                SCsum += SC\n",
    "\n",
    "        NCcohesion = NCsum/(len(familyList)-1)\n",
    "        SCcohesion = SCsum/(len(familyList)-1)\n",
    "    else:\n",
    "        NCcohesion = 0.00\n",
    "        SCcohesion = 0.00\n",
    "    \n",
    "    return NCcohesion, SCcohesion\n",
    "\n",
    "\n",
    "def geneSeparation(x,otherFam):    \n",
    "    familyList = revisedMembersList[otherFam]\n",
    "    NCsum = 0\n",
    "    SCsum = 0\n",
    "    \n",
    "    for g in familyList:\n",
    "        if (x,g) in scoreDict:\n",
    "            NC,SC = scoreDict[(x,g)]\n",
    "            \n",
    "            NCsum += NC\n",
    "            SCsum += SC\n",
    "            \n",
    "    NCseparation = NCsum/len(familyList)\n",
    "    SCseparation = SCsum/len(familyList)\n",
    "    return NCseparation, SCseparation\n",
    "\n",
    "\n",
    "def geneSilhouette(x,ownFam):\n",
    "    NCcohesion, SCcohesion = geneCohesion(x,ownFam)\n",
    "    \n",
    "    NCseparationList = []\n",
    "    SCseparationList = []\n",
    "    \n",
    "    for otherFam in data.familiesDict:\n",
    "        if f1 != otherFam and f2 != otherFam:     # compare names to save speed\n",
    "            NC,SC = geneSeparation(x,otherFam)\n",
    "            \n",
    "            NCseparationList.append(NC)\n",
    "            SCseparationList.append(SC)\n",
    "            \n",
    "    NCseparation = max(NCseparationList)\n",
    "    SCseparation = max(SCseparationList)\n",
    "    \n",
    "    try: \n",
    "        NCsilhouette = (NCcohesion - NCseparation)/ max(NCcohesion,NCseparation)\n",
    "    except ZeroDivisionError:\n",
    "        NCsilhouette = 0\n",
    "    \n",
    "    try:\n",
    "        SCsilhouette = (SCcohesion - SCseparation)/ max(SCcohesion,SCseparation) \n",
    "    except ZeroDivisionError:\n",
    "        SCsilhouette = 0\n",
    "        \n",
    "    return NCsilhouette, SCsilhouette\n"
   ]
  },
  {
   "cell_type": "code",
   "execution_count": 7,
   "metadata": {
    "collapsed": true
   },
   "outputs": [],
   "source": [
    "# Compute silhouette of a cluster\n",
    "\n",
    "def clusterSilhouette(family):\n",
    "    familyList = revisedMembersList[family]\n",
    "    NCsil = []\n",
    "    SCsil = []\n",
    "\n",
    "    \n",
    "    for g in familyList:\n",
    "        NC, SC = geneSilhouette(g,family)\n",
    "        NCsil.append((g,NC))\n",
    "        SCsil.append((g,SC))\n",
    "    \n",
    "    \n",
    "    NCsilList = [score[1] for score in NCsil]\n",
    "    SCsilList = [score[1] for score in SCsil]\n",
    "    \n",
    "        \n",
    "    NCsilMin = min(NCsilList)\n",
    "    NCsilMax = max(NCsilList)\n",
    "    NCsilAve = sum(NCsilList)/len(NCsilList)\n",
    "    \n",
    "    SCsilMin = min(SCsilList)\n",
    "    SCsilMax = max(SCsilList)\n",
    "    SCsilAve = sum(SCsilList)/len(SCsilList)\n",
    "    \n",
    "    valuesOutNC = [NCsilMin, NCsilMax, NCsilAve]\n",
    "    valuesOutSC = [SCsilMin, SCsilMax, SCsilAve]\n",
    "    \n",
    "    return valuesOutNC, valuesOutSC"
   ]
  },
  {
   "cell_type": "markdown",
   "metadata": {},
   "source": [
    "## Purely random pairs"
   ]
  },
  {
   "cell_type": "code",
   "execution_count": null,
   "metadata": {
    "collapsed": true
   },
   "outputs": [],
   "source": [
    "# make purely random family pairs\n",
    "\n",
    "randAllList = []\n",
    "\n",
    "for i in range(n_rand):\n",
    "    f1,f2 = random.sample(famListFull,2)\n",
    "    randAllList.append((f1,f2))\n"
   ]
  },
  {
   "cell_type": "code",
   "execution_count": null,
   "metadata": {
    "collapsed": true
   },
   "outputs": [],
   "source": [
    "randAllList[:10]"
   ]
  },
  {
   "cell_type": "markdown",
   "metadata": {},
   "source": [
    "## Families with an edge in between"
   ]
  },
  {
   "cell_type": "code",
   "execution_count": 13,
   "metadata": {},
   "outputs": [
    {
     "data": {
      "text/plain": [
       "27835"
      ]
     },
     "execution_count": 13,
     "metadata": {},
     "output_type": "execute_result"
    }
   ],
   "source": [
    "hasEdgesList = list(set(numEdgesDict.keys()))\n",
    "len(hasEdgesList)"
   ]
  },
  {
   "cell_type": "code",
   "execution_count": 14,
   "metadata": {},
   "outputs": [
    {
     "data": {
      "text/plain": [
       "14474"
      ]
     },
     "execution_count": 14,
     "metadata": {},
     "output_type": "execute_result"
    }
   ],
   "source": [
    "newList = []\n",
    "\n",
    "for (x,y) in hasEdgesList:\n",
    "    if x != y:\n",
    "        newList.append((x,y))\n",
    "        \n",
    "hasEdgesList = newList\n",
    "len(hasEdgesList)"
   ]
  },
  {
   "cell_type": "code",
   "execution_count": 15,
   "metadata": {},
   "outputs": [
    {
     "data": {
      "text/plain": [
       "7237"
      ]
     },
     "execution_count": 15,
     "metadata": {},
     "output_type": "execute_result"
    }
   ],
   "source": [
    "doneMap = {}\n",
    "newList = []\n",
    "\n",
    "for (x,y) in hasEdgesList:\n",
    "    try:\n",
    "        doneMap[(x,y)]\n",
    "    except KeyError:\n",
    "        doneMap[(x,y)] = None\n",
    "        doneMap[(y,x)] = None\n",
    "        \n",
    "        newList.append((x,y))\n",
    "        \n",
    "hasEdgesList = newList        \n",
    "len(hasEdgesList)\n"
   ]
  },
  {
   "cell_type": "code",
   "execution_count": null,
   "metadata": {
    "collapsed": true
   },
   "outputs": [],
   "source": [
    "hasEdgesList[:10]"
   ]
  },
  {
   "cell_type": "code",
   "execution_count": null,
   "metadata": {
    "collapsed": true
   },
   "outputs": [],
   "source": [
    "n_less = 100\n",
    "\n",
    "randHasEdgesList = []\n",
    "\n",
    "for i in range(n_less):\n",
    "    f1,f2 = random.choice(hasEdgesList)\n",
    "    randHasEdgesList.append((f1,f2))\n"
   ]
  },
  {
   "cell_type": "code",
   "execution_count": null,
   "metadata": {
    "collapsed": true
   },
   "outputs": [],
   "source": [
    "randHasEdgesList[:10]"
   ]
  },
  {
   "cell_type": "markdown",
   "metadata": {},
   "source": [
    "Next, we look for pairs of families $F_1,F_2$, where $F_1$ appears in $x$ species and $F_2$ is missing from those $x$ species. We do this for $1\\leq x\\leq9$ since we have 18 species in total. We then take random pairs from the set of such families."
   ]
  },
  {
   "cell_type": "code",
   "execution_count": null,
   "metadata": {
    "collapsed": true
   },
   "outputs": [],
   "source": [
    "# find complement families\n",
    "\n",
    "\n",
    "# create an addressBook which contains combinations of species of size 1<x<9.\n",
    "# find all size 'x' subsets of species. We want each subset to be in order.\n",
    "addressBook = [] \n",
    "speciesList = list(data.speciesDict.keys())\n",
    "speciesList.sort()\n",
    "\n",
    "for x in range(1,10):\n",
    "    addressBook += list(itertools.combinations(speciesList,x)) \n",
    "\n",
    "\n",
    "# dictionaries which maps subset (ordered list, in practice) of species to the \n",
    "# families which are present only in the subset, and families that are missing in the subset\n",
    "onlyInSpecies = {}\n",
    "missingInSpecies = {}\n",
    "\n",
    "\n",
    "# initialize dictionary entry for every subset\n",
    "for subsetSpecies in addressBook:\n",
    "    onlyInSpecies[subsetSpecies] = []\n",
    "    missingInSpecies[subsetSpecies] = []\n",
    "    \n",
    "\n",
    "# sort families into appropriate dictionary and key\n",
    "for famName in data.familiesDict:\n",
    "    currentFamily = data.familiesDict[famName]     # family object\n",
    "    \n",
    "    inSubset = []    #gives species in which the family appears in\n",
    "    notInSubset = []     #gives species in which the family does not appear in\n",
    "\n",
    "\n",
    "    #find a set of species which the family appears in, and another set which the family does not appear in\n",
    "    for species in currentFamily.familyMembersDict:   \n",
    "        if len(currentFamily.familyMembersDict[species]) > 0:\n",
    "            inSubset.append(species)\n",
    "        else:\n",
    "            notInSubset.append(species)\n",
    "\n",
    "            \n",
    "    # inorder to use species lists as dictionary keys, we need to sort and convert to tuples\n",
    "    inSubset.sort()\n",
    "    inTuple = tuple(s for s in inSubset)\n",
    "    notInSubset.sort()\n",
    "    notInTuple = tuple(s for s in notInSubset)\n",
    "    \n",
    "    \n",
    "    #add \n",
    "    inLen = len(inTuple)\n",
    "    notinLen = len(notInTuple)\n",
    "    \n",
    "    if inLen <= 9 and inLen >0:\n",
    "        onlyInSpecies[inTuple].append(famName)\n",
    "    elif notinLen <= 9 and notinLen >0:\n",
    "        missingInSpecies[notInTuple].append(famName)\n"
   ]
  },
  {
   "cell_type": "code",
   "execution_count": null,
   "metadata": {
    "collapsed": true
   },
   "outputs": [],
   "source": [
    "# find list of families part 2\n",
    "\n",
    "complementList = []\n",
    "\n",
    "for subsetSpecies in addressBook:\n",
    "    famListOnly = onlyInSpecies[subsetSpecies]\n",
    "    famListMissing = missingInSpecies[subsetSpecies]\n",
    "    \n",
    "    # if complement families exist (two lists are nonempty), add the cross product to complementList\n",
    "    if famListOnly and famListMissing:\n",
    "        complements = list(itertools.product(famListOnly,famListMissing))\n",
    "        complementList += complements\n",
    "         "
   ]
  },
  {
   "cell_type": "code",
   "execution_count": null,
   "metadata": {
    "collapsed": true
   },
   "outputs": [],
   "source": [
    "# make random complement family pairs\n",
    "\n",
    "randComplementList = []\n",
    "\n",
    "for i in range(n_rand):\n",
    "    f1,f2 = random.choice(complementList)\n",
    "    randComplementList.append((f1,f2))\n"
   ]
  },
  {
   "cell_type": "code",
   "execution_count": null,
   "metadata": {
    "collapsed": true
   },
   "outputs": [],
   "source": [
    "randComplementList[:10]"
   ]
  },
  {
   "cell_type": "markdown",
   "metadata": {},
   "source": [
    "Now we look for pairs $F_1,F_2$ with a shared neighbor $F_3$ (i.e. on one genome, a gene of $F_1$ is adjacent to a gene of $F_3$, and on a different genome, a gene of $F_2$ is adjacent to a gene of $F_3$)."
   ]
  },
  {
   "cell_type": "code",
   "execution_count": null,
   "metadata": {
    "collapsed": true
   },
   "outputs": [],
   "source": [
    "#make a dictionary which will give information about gene order\n",
    "\n",
    "Genomes = {}\n",
    "for s in data.speciesDict:\n",
    "    Genomes[s] = {}\n",
    "\n",
    "for g in data.genesDict:\n",
    "    currentGene = data.genesDict[g]\n",
    "    try:\n",
    "        Genomes[currentGene.species][currentGene.ctg].append(currentGene)   #pass gene object\n",
    "    except KeyError:\n",
    "        Genomes[currentGene.species][currentGene.ctg] = [currentGene]\n",
    "\n",
    "        \n",
    "#sort genes in their contig\n",
    "for s in Genomes:\n",
    "    for c in Genomes[s]:\n",
    "        Genomes[s][c].sort(key = lambda gene: int(gene.start))"
   ]
  },
  {
   "cell_type": "code",
   "execution_count": null,
   "metadata": {
    "collapsed": true
   },
   "outputs": [],
   "source": [
    "# find all families with a shared neighbor\n",
    "# with duplicates\n",
    "\n",
    "nbrFamilies = {}\n",
    "\n",
    "for s in Genomes:\n",
    "    for c in Genomes[s]:\n",
    "        contig = Genomes[s][c]\n",
    "        ctgSize = len(contig)\n",
    "        \n",
    "        if ctgSize > 1:            \n",
    "            for i in range(ctgSize-1):\n",
    "                g1 = contig[i]\n",
    "                g2 = contig[i+1]\n",
    "                \n",
    "                f1 = g1.family\n",
    "                f2 = g2.family\n",
    "                \n",
    "                try:\n",
    "                    nbrFamilies[f1].append(f2)\n",
    "                except KeyError:\n",
    "                    nbrFamilies[f1] = [f2]\n",
    "                    \n",
    "                try:\n",
    "                    nbrFamilies[f2].append(f1)\n",
    "                except KeyError:\n",
    "                    nbrFamilies[f2] = [f1] \n",
    "    "
   ]
  },
  {
   "cell_type": "code",
   "execution_count": null,
   "metadata": {
    "collapsed": true
   },
   "outputs": [],
   "source": [
    "# find pairs f1,f2 with shared neighbors\n",
    "\n",
    "hasSharedNbrs= []\n",
    "\n",
    "# Dictionary used to avoid storing both (f1,f2) and (f2,f1) \n",
    "# maps pair in both order to None\n",
    "done = {}\n",
    "\n",
    "for f3 in nbrFamilies:\n",
    "    neighbors = nbrFamilies[f3]\n",
    "    \n",
    "    if len(neighbors) > 1:\n",
    "        pairs = list(itertools.combinations(neighbors,2))\n",
    "        \n",
    "        for f1,f2 in pairs:            \n",
    "            if f1 == f2:\n",
    "                continue\n",
    "            else:\n",
    "                hasSharedNbrs.append((f1,f2))\n",
    "\n",
    "# delete repeated entries\n",
    "hasSharedNbrsNoDup = list(set(hasSharedNbrs))"
   ]
  },
  {
   "cell_type": "code",
   "execution_count": null,
   "metadata": {
    "collapsed": true
   },
   "outputs": [],
   "source": [
    "randSharedNbrNoDupList = []\n",
    "\n",
    "for i in range(n_rand):\n",
    "    f1,f2 = random.choice(hasSharedNbrsNoDup)\n",
    "    randSharedNbrNoDupList.append((f1,f2))\n"
   ]
  },
  {
   "cell_type": "code",
   "execution_count": null,
   "metadata": {
    "collapsed": true
   },
   "outputs": [],
   "source": [
    "randSharedNbrNoDupList[:10]"
   ]
  },
  {
   "cell_type": "markdown",
   "metadata": {},
   "source": [
    "### Candidate pairs"
   ]
  },
  {
   "cell_type": "markdown",
   "metadata": {},
   "source": [
    "Load candidate family pairs."
   ]
  },
  {
   "cell_type": "code",
   "execution_count": null,
   "metadata": {
    "collapsed": true
   },
   "outputs": [],
   "source": [
    "# load synteny files\n",
    "synteny_k2 = open(\"../analysis/synteny_in_x_vs_n-x/summary_synteny_in_2_and_n-2-2_species.txt\",'r').readlines()\n",
    "synteny_k3 = open(\"../analysis/synteny_in_x_vs_n-x/summary_synteny_in_3_and_n-3-2_species.txt\",'r').readlines()\n",
    "synteny_k4 = open(\"../analysis/synteny_in_x_vs_n-x/summary_synteny_in_4_and_n-4-2_species.txt\",'r').readlines()\n",
    "\n",
    "syntenyList = synteny_k2[1:] + synteny_k3[1:] + synteny_k4[1:]"
   ]
  },
  {
   "cell_type": "code",
   "execution_count": null,
   "metadata": {
    "collapsed": true
   },
   "outputs": [],
   "source": [
    "#make candidate list\n",
    "\n",
    "candidateList = []\n",
    "\n",
    "for l in syntenyList:\n",
    "    x = l.split()\n",
    "    f1 = x[0]\n",
    "    f2 = x[1]\n",
    "    candidateList.append((f1,f2))\n",
    "    \n",
    "#get rid of repeated pairs (instances of (f1,f2) using different f3)\n",
    "candidateList = list(set(candidateList))\n",
    "\n"
   ]
  },
  {
   "cell_type": "markdown",
   "metadata": {},
   "source": [
    "We compare the results for this candidate list to that of a more relaxed candidate list. Relaxed conditions requires $F_1$ (or $F_2$) to be within delta = 5 genes from $F_3$."
   ]
  },
  {
   "cell_type": "code",
   "execution_count": null,
   "metadata": {
    "collapsed": true
   },
   "outputs": [],
   "source": [
    "def extendCandidates(delta):\n",
    "    extsynteny_k2 = open(\"../results/extended_synteny/delta_\"+str(delta)+\"/summary/summary_synteny_in_2_and_n-2-2_species.txt\",'r').readlines()\n",
    "    extsynteny_k3 = open(\"../results/extended_synteny/delta_\"+str(delta)+\"/summary/summary_synteny_in_3_and_n-3-2_species.txt\",'r').readlines()\n",
    "    extsynteny_k4 = open(\"../results/extended_synteny/delta_\"+str(delta)+\"/summary/summary_synteny_in_4_and_n-4-2_species.txt\",'r').readlines()\n",
    "\n",
    "    extsyntenyList = extsynteny_k2[1:] + extsynteny_k3[1:] + extsynteny_k4[1:]\n",
    "    \n",
    "    return extsyntenyList"
   ]
  },
  {
   "cell_type": "code",
   "execution_count": null,
   "metadata": {
    "collapsed": true
   },
   "outputs": [],
   "source": [
    "#make extended candidate lists \n",
    "\n",
    "extendedCandidateList = {}\n",
    "\n",
    "\n",
    "for delta in [2,3,4]:\n",
    "    extendedCandidateList[delta] = []\n",
    "    \n",
    "    extsyntenyList = extendCandidates(delta)\n",
    "\n",
    "    for l in extsyntenyList:\n",
    "        x = l.split()\n",
    "        f1 = x[0]\n",
    "        f2 = x[1]\n",
    "\n",
    "        extendedCandidateList[delta].append((f1,f2))\n",
    "\n",
    "    #get rid of repeated pairs (instances of (f1,f2) using different f3)\n",
    "    extendedCandidateList[delta] = list(set(extendedCandidateList[delta]))\n",
    "    "
   ]
  },
  {
   "cell_type": "code",
   "execution_count": null,
   "metadata": {
    "collapsed": true
   },
   "outputs": [],
   "source": []
  },
  {
   "cell_type": "markdown",
   "metadata": {},
   "source": [
    "## Join families"
   ]
  },
  {
   "cell_type": "code",
   "execution_count": 16,
   "metadata": {
    "collapsed": true
   },
   "outputs": [],
   "source": [
    "# function for joining families\n",
    "\n",
    "def joinFams(famName1, famName2):\n",
    "    \n",
    "    if famName1 == famName2:\n",
    "        print(\"Error. Attempting to join same family.\")\n",
    "        return\n",
    "    \n",
    "    members1 = membersList[famName1]\n",
    "    members2 = membersList[famName2]\n",
    "    membersJ = members1 + members2\n",
    "        \n",
    "    revisedMembersList = membersList.copy()\n",
    "    revisedMembersList[\"joined\"] = membersJ\n",
    "    del revisedMembersList[f1]\n",
    "    del revisedMembersList[f2]\n",
    "\n",
    "    return revisedMembersList\n",
    "    "
   ]
  },
  {
   "cell_type": "code",
   "execution_count": 17,
   "metadata": {
    "collapsed": true
   },
   "outputs": [],
   "source": [
    "# load computed NC silhouette scores for all families\n",
    "\n",
    "ncSilhouetteFile = open(\"../results/shuffled_nc_silhouette.txt\",'r').readlines()\n",
    "\n",
    "\n",
    "#dictionary that maps family name to ave nc silhouette\n",
    "famSilhouette = {}\n",
    "\n",
    "for l in ncSilhouetteFile[1:]:\n",
    "    x = l.split()\n",
    "    \n",
    "    fam = x[0]\n",
    "    ncSil = float(x[5])   #ave nc silhouette\n",
    "    \n",
    "    famSilhouette[fam] = ncSil"
   ]
  },
  {
   "cell_type": "code",
   "execution_count": null,
   "metadata": {
    "collapsed": true
   },
   "outputs": [],
   "source": [
    "'''Note to self: Rerun nc_silhouette computations with 6+ sig figs. Then change sig figs shown here '''"
   ]
  },
  {
   "cell_type": "code",
   "execution_count": null,
   "metadata": {
    "collapsed": true
   },
   "outputs": [],
   "source": [
    "#computes silhouette of joined families and prints desired output\n",
    "\n",
    "'''\n",
    "allLists = [randAllList, randHasEdgesList, randComplementList, randSharedNbrNoDupList, candidateList] + list(extendedCandidateList.values())\n",
    "outputFileNames = [\"../results/joined_families_silhouette/random.txt\",\n",
    "                   \"../results/joined_families_silhouette/has_edge.txt\",\n",
    "                   \"../results/joined_families_silhouette/complement.txt\",\n",
    "                   \"../results/joined_families_silhouette/shared_nbr_no_dup.txt\",\n",
    "                   \"../results/joined_families_silhouette/candidates.txt\"] + [\n",
    "                    \"../results/joined_families_silhouette/candidates_delta2.txt\",\n",
    "                    \"../results/joined_families_silhouette/candidates_delta3.txt\",\n",
    "                    \"../results/joined_families_silhouette/candidates_delta4.txt\"]\n",
    "\n",
    "\n",
    "\n",
    "\n",
    "#for i in range(len(allLists)):\n",
    "for i in [1,2,3]:\n",
    "    pairsList = allLists[i]\n",
    "    outputfile = outputFileNames[i]\n",
    "    \n",
    "    ncOut = open(outputfile,'w')\n",
    "    ncOut.write(\"F1 \\t F2 \\t num_edges_between \\t s1 \\t s2 \\t s \\t s12 \\t s12-s \\n\")\n",
    "    \n",
    "    for pair in pairsList:\n",
    "        f1 = pair[0]\n",
    "        f2 = pair[1]\n",
    "\n",
    "        s1 = famSilhouette[f1]\n",
    "        s2 = famSilhouette[f2]\n",
    "\n",
    "        revisedMembersList = joinFams(f1,f2)\n",
    "\n",
    "        try:\n",
    "            numEdgesBetween = numEdgesDict[(f1,f2)]\n",
    "        except KeyError:\n",
    "            numEdgesBetween = 0\n",
    "\n",
    "\n",
    "        valuesOutNC, valuesOutSC = clusterSilhouette(\"joined\")\n",
    "\n",
    "        s12 = valuesOutNC[2]\n",
    "      \n",
    "        ####\n",
    "        sizef1 = len(membersList[f1])\n",
    "        sizef2 = len(membersList[f2])\n",
    "\n",
    "        silSumf1 = s1 * sizef1\n",
    "        silSumf2 = s2 * sizef2\n",
    "\n",
    "        s= (silSumf1 + silSumf2) / (sizef1 + sizef2)\n",
    "        d= s12 - s\n",
    "        ####\n",
    "        \n",
    "        values = [s1, s2, s12, s, d]\n",
    "\n",
    "\n",
    "        ncOut.writelines([f1,'\\t',f2,'\\t',str(numEdgesBetween),'\\t'])\n",
    "\n",
    "        for v in values:\n",
    "            short = \"%.4f\" % v\n",
    "            ncOut.write(str(short))\n",
    "            ncOut.write('\\t')\n",
    "\n",
    "        ncOut.write('\\n')\n",
    "        \n",
    "        \n",
    "    ncOut.close()  #close output stream to update result file when finished\n",
    "\n",
    "        "
   ]
  },
  {
   "cell_type": "code",
   "execution_count": 15,
   "metadata": {
    "collapsed": true
   },
   "outputs": [],
   "source": [
    "#Execute script for one group of samples \n",
    "#Change pairsList and outputfile\n",
    "\n",
    "\n",
    "\n",
    "pairsList = hasEdgesList\n",
    "outputfile = \"../results/joined_families_silhouette/shuffled_edges_full.txt\"\n",
    "\n",
    "\n",
    "ncOut = open(outputfile,'w')\n",
    "ncOut.write(\"F1 \\t F2 \\t num_edges_between \\t s1 \\t s2 \\t s12 \\t s \\t d \\n\")\n",
    "\n",
    "for pair in pairsList:\n",
    "    f1 = pair[0]\n",
    "    f2 = pair[1]\n",
    "\n",
    "    s1 = famSilhouette[f1]\n",
    "    s2 = famSilhouette[f2]\n",
    "\n",
    "    revisedMembersList = joinFams(f1,f2)\n",
    "\n",
    "    try:\n",
    "        numEdgesBetween = numEdgesDict[(f1,f2)]\n",
    "    except KeyError:\n",
    "        numEdgesBetween = 0\n",
    "\n",
    "\n",
    "    valuesOutNC, valuesOutSC = clusterSilhouette(\"joined\")\n",
    "\n",
    "\n",
    "    sizef1 = len(membersList[f1])\n",
    "    sizef2 = len(membersList[f2])\n",
    "\n",
    "    silSumf1 = s1 * sizef1\n",
    "    silSumf2 = s2 * sizef2\n",
    "\n",
    "    s= (silSumf1 + silSumf2) / (sizef1 + sizef2)\n",
    "\n",
    "    s12 = valuesOutNC[2]\n",
    "\n",
    "    d = s12 - s\n",
    "    \n",
    "    values = [s1, s2, s12, s, d]\n",
    "\n",
    "    ncOut.writelines([f1,'\\t',f2,'\\t',str(numEdgesBetween),'\\t'])\n",
    "\n",
    "    for v in values:\n",
    "        short = \"%.4f\" % v\n",
    "        ncOut.write(str(short))\n",
    "        ncOut.write('\\t')\n",
    "\n",
    "    ncOut.write('\\n')\n",
    "\n",
    "ncOut.close()\n"
   ]
  },
  {
   "cell_type": "markdown",
   "metadata": {},
   "source": [
    "## Alternative formula for calculating silhouette difference"
   ]
  },
  {
   "cell_type": "markdown",
   "metadata": {},
   "source": [
    "We shall calculate the difference $d = s_{12} - s$ with adjustments for the relative sizes of $s1$ and $s2$. In other words, instead of $s = \\dfrac{(s_1 + s_2)}{2}$, where $s_1,s_2$ are average silhouettes in their respective families, we will use $s' = \\dfrac{\\sum_{x \\in F_1} sil(x) + \\sum_{y \\in F_2} sil(y) )}{|F_1 + F_2|}$."
   ]
  },
  {
   "cell_type": "markdown",
   "metadata": {},
   "source": [
    "## Plots of silhouette difference after joining families"
   ]
  },
  {
   "cell_type": "markdown",
   "metadata": {},
   "source": [
    "Plot the distribution of the value $s_{12} - s$ for every subset of family pairs. This value describes the change in silhoutte after joining two families."
   ]
  },
  {
   "cell_type": "markdown",
   "metadata": {},
   "source": [
    "### Purely random pairs"
   ]
  },
  {
   "cell_type": "code",
   "execution_count": 16,
   "metadata": {
    "collapsed": true
   },
   "outputs": [],
   "source": [
    "randomIn = open(\"../results/joined_families_silhouette/random.txt\",'r').readlines()\n",
    "\n",
    "randomDiff = []\n",
    "\n",
    "for l in randomIn[1:]:\n",
    "    x = l.split()\n",
    "    d = float(x[7])\n",
    "    randomDiff.append(d)"
   ]
  },
  {
   "cell_type": "code",
   "execution_count": 17,
   "metadata": {},
   "outputs": [
    {
     "data": {
      "image/png": "[encoded data removed]",
      "text/plain": [
       "<matplotlib.figure.Figure at 0x7fa0489c0550>"
      ]
     },
     "metadata": {},
     "output_type": "display_data"
    }
   ],
   "source": [
    "plt.rcdefaults()\n",
    "fig, ax1 = plt.subplots()\n",
    "\n",
    "#fig.set_size_inches(10,5)\n",
    "\n",
    "ax1.set_xlim([-1,1])\n",
    "ax1.set_ylim([0,3000])\n",
    "\n",
    "ax1.hist(randomDiff)\n",
    "ax1.set_xlabel('Silhouette difference after joining')\n",
    "ax1.set_ylabel('Number of family pairs')\n",
    "ax1.set_title('Random families')\n",
    "\n",
    "\n",
    "plt.show()"
   ]
  },
  {
   "cell_type": "markdown",
   "metadata": {},
   "source": [
    "### Families with an edge between them"
   ]
  },
  {
   "cell_type": "code",
   "execution_count": 18,
   "metadata": {
    "collapsed": true
   },
   "outputs": [],
   "source": [
    "hasEdgeIn = open(\"../results/joined_families_silhouette/has_edge.txt\",'r').readlines()\n",
    "\n",
    "hasEdgeDiff = []\n",
    "\n",
    "for l in hasEdgeIn[1:]:\n",
    "    x = l.split()\n",
    "    d = float(x[7])\n",
    "    hasEdgeDiff.append(d)"
   ]
  },
  {
   "cell_type": "code",
   "execution_count": 19,
   "metadata": {},
   "outputs": [
    {
     "data": {
      "image/png": "[encoded data removed]",
      "text/plain": [
       "<matplotlib.figure.Figure at 0x7fa044d660f0>"
      ]
     },
     "metadata": {},
     "output_type": "display_data"
    }
   ],
   "source": [
    "plt.rcdefaults()\n",
    "fig, ax1 = plt.subplots()\n",
    "\n",
    "#fig.set_size_inches(10,5)\n",
    "\n",
    "ax1.set_xlim([-1,2])\n",
    "ax1.set_ylim([0,3000])\n",
    "\n",
    "ax1.hist(hasEdgeDiff)\n",
    "ax1.set_xlabel('Silhouette difference after joining')\n",
    "ax1.set_ylabel('Number of family pairs')\n",
    "ax1.set_title('Families with edges in between')\n",
    "\n",
    "\n",
    "plt.show()"
   ]
  },
  {
   "cell_type": "markdown",
   "metadata": {},
   "source": [
    "### Complement families"
   ]
  },
  {
   "cell_type": "code",
   "execution_count": 20,
   "metadata": {
    "collapsed": true
   },
   "outputs": [],
   "source": [
    "complementIn = open(\"../results/joined_families_silhouette/complement.txt\",'r').readlines()\n",
    "\n",
    "complementDiff = []\n",
    "\n",
    "for l in complementIn[1:]:\n",
    "    x = l.split()\n",
    "    d = float(x[7])\n",
    "    complementDiff.append(d)\n"
   ]
  },
  {
   "cell_type": "code",
   "execution_count": 21,
   "metadata": {},
   "outputs": [
    {
     "data": {
      "image/png": "[encoded data removed]",
      "text/plain": [
       "<matplotlib.figure.Figure at 0x7fa044c339e8>"
      ]
     },
     "metadata": {},
     "output_type": "display_data"
    }
   ],
   "source": [
    "plt.rcdefaults()\n",
    "fig, ax1 = plt.subplots()\n",
    "\n",
    "ax1.set_xlim([-1,1])\n",
    "ax1.set_ylim([0,3000])\n",
    "\n",
    "ax1.hist(complementDiff)\n",
    "ax1.set_xlabel('Silhouette difference after joining')\n",
    "ax1.set_ylabel('Number of family pairs')\n",
    "ax1.set_title('Complement families')\n",
    "\n",
    "\n",
    "plt.show()"
   ]
  },
  {
   "cell_type": "markdown",
   "metadata": {},
   "source": [
    "3 Families with a shared neighbor. No duplicates."
   ]
  },
  {
   "cell_type": "code",
   "execution_count": 22,
   "metadata": {
    "collapsed": true
   },
   "outputs": [],
   "source": [
    "sharedNoDuptIn = open(\"../results/joined_families_silhouette/shared_nbr_no_dup.txt\",'r').readlines()\n",
    "\n",
    "sharedNoDupDiff = []\n",
    "\n",
    "for l in sharedNoDuptIn[1:]:\n",
    "    x = l.split()\n",
    "    d = float(x[7])\n",
    "    sharedNoDupDiff.append(d)\n"
   ]
  },
  {
   "cell_type": "code",
   "execution_count": 23,
   "metadata": {},
   "outputs": [
    {
     "data": {
      "image/png": "[encoded data removed]",
      "text/plain": [
       "<matplotlib.figure.Figure at 0x7fa044c48e10>"
      ]
     },
     "metadata": {},
     "output_type": "display_data"
    }
   ],
   "source": [
    "plt.rcdefaults()\n",
    "fig, ax1 = plt.subplots()\n",
    "\n",
    "\n",
    "ax1.set_xlim([-1,1])\n",
    "ax1.set_ylim([0,3000])\n",
    "\n",
    "ax1.hist(sharedNoDupDiff)\n",
    "ax1.set_xlabel('Silhouette difference after joining')\n",
    "ax1.set_ylabel('Number of family pairs')\n",
    "ax1.set_title('Shared neighbors ')\n",
    "\n",
    "plt.show()"
   ]
  },
  {
   "cell_type": "markdown",
   "metadata": {},
   "source": [
    "4 Candidate families"
   ]
  },
  {
   "cell_type": "code",
   "execution_count": 24,
   "metadata": {
    "collapsed": true
   },
   "outputs": [],
   "source": [
    "candidateIn = open(\"../results/joined_families_silhouette/candidates.txt\",'r').readlines()\n",
    "\n",
    "candidateDiff = []\n",
    "candidateDiffWithEdge = []\n",
    "\n",
    "for l in candidateIn[1:]:\n",
    "    x = l.split()\n",
    "    d = float(x[7])\n",
    "    candidateDiff.append(d)\n",
    "    \n",
    "    f1 = x[0]\n",
    "    f2 = x[1]\n",
    "    if (f1,f2) in numEdgesDict or (f2,f1) in numEdgesDict:\n",
    "        candidateDiffWithEdge.append(d)\n"
   ]
  },
  {
   "cell_type": "code",
   "execution_count": 25,
   "metadata": {},
   "outputs": [
    {
     "data": {
      "image/png": "[encoded data removed]",
      "text/plain": [
       "<matplotlib.figure.Figure at 0x7fa044a11978>"
      ]
     },
     "metadata": {},
     "output_type": "display_data"
    }
   ],
   "source": [
    "plt.rcdefaults()\n",
    "fig, (ax1,ax2) = plt.subplots(1,2)\n",
    "\n",
    "fig.set_size_inches(10,5)\n",
    "\n",
    "\n",
    "ax1.set_xlim([-1,1])\n",
    "ax1.set_ylim([0,100])\n",
    "\n",
    "ax1.hist(candidateDiff)\n",
    "ax1.set_xlabel('Silhouette difference after joining')\n",
    "ax1.set_ylabel('Number of family pairs')\n",
    "ax1.set_title('Candidate families')\n",
    "\n",
    "ax2.set_xlim([-1,1])\n",
    "ax2.set_ylim([0,100])\n",
    "\n",
    "ax2.hist(candidateDiffWithEdge)\n",
    "ax2.set_xlabel('Silhouette difference after joining')\n",
    "ax2.set_ylabel('Number of family pairs')\n",
    "ax2.set_title('Candidate families')\n",
    "\n",
    "\n",
    "plt.show()"
   ]
  },
  {
   "cell_type": "markdown",
   "metadata": {},
   "source": [
    "5 Extended candidate families"
   ]
  },
  {
   "cell_type": "code",
   "execution_count": 26,
   "metadata": {
    "collapsed": true
   },
   "outputs": [],
   "source": [
    "extendedCandidateDiff = {}\n",
    "extendedCandidateDiffWithEdge = {}\n",
    "\n",
    "for delta in [2,3,4]:\n",
    "    extendedCandidateIn = open(\"../results/joined_families_silhouette/candidates_delta\"+str(delta)+\".txt\",'r').readlines()\n",
    "\n",
    "    extendedCandidateDiff[delta] = []\n",
    "    extendedCandidateDiffWithEdge[delta] = []\n",
    "\n",
    "    for l in extendedCandidateIn[1:]:\n",
    "        x = l.split()\n",
    "        d = float(x[7])\n",
    "        extendedCandidateDiff[delta].append(d)\n",
    "        \n",
    "        f1 = x[0]\n",
    "        f2 = x[1]\n",
    "        if (f1,f2) in numEdgesDict or (f2,f1) in numEdgesDict:\n",
    "            extendedCandidateDiffWithEdge[delta].append(d)\n"
   ]
  },
  {
   "cell_type": "code",
   "execution_count": 27,
   "metadata": {},
   "outputs": [
    {
     "data": {
      "image/png": "[encoded data removed]",
      "text/plain": [
       "<matplotlib.figure.Figure at 0x7fa044846a20>"
      ]
     },
     "metadata": {},
     "output_type": "display_data"
    },
    {
     "name": "stdout",
     "output_type": "stream",
     "text": [
      "delta = 2 . Contains 228 pairs of families.\n"
     ]
    },
    {
     "data": {
      "image/png": "[encoded data removed]",
      "text/plain": [
       "<matplotlib.figure.Figure at 0x7fa0448cd240>"
      ]
     },
     "metadata": {},
     "output_type": "display_data"
    },
    {
     "name": "stdout",
     "output_type": "stream",
     "text": [
      "delta = 3 . Contains 409 pairs of families.\n"
     ]
    },
    {
     "data": {
      "image/png": "[encoded data removed]",
      "text/plain": [
       "<matplotlib.figure.Figure at 0x7fa0445b9710>"
      ]
     },
     "metadata": {},
     "output_type": "display_data"
    },
    {
     "name": "stdout",
     "output_type": "stream",
     "text": [
      "delta = 4 . Contains 605 pairs of families.\n"
     ]
    }
   ],
   "source": [
    "for delta in [2,3,4]:\n",
    "    plt.rcdefaults()\n",
    "    fig, (ax1,ax2) = plt.subplots(1,2)\n",
    "    \n",
    "    fig.set_size_inches(10,5)\n",
    "\n",
    "    ax1.set_xlim([-1,1])\n",
    "    ax1.set_ylim([0,100])\n",
    "\n",
    "    ax1.hist(extendedCandidateDiff[delta])\n",
    "    ax1.set_xlabel('Silhouette difference after joining')\n",
    "    ax1.set_ylabel('Number of family pairs')\n",
    "    ax1.set_title('Extended Candidate families, delta = '+str(delta))\n",
    "    \n",
    "    ax2.set_xlim([-1,1])\n",
    "    ax2.set_ylim([0,100])\n",
    "\n",
    "    ax2.hist(extendedCandidateDiffWithEdge[delta])\n",
    "    ax2.set_xlabel('Silhouette difference after joining')\n",
    "    ax2.set_ylabel('Number of family pairs')\n",
    "    ax2.set_title('Extended candidate families, delta = '+str(delta))\n",
    "\n",
    "    plt.show()\n",
    "    \n",
    "    print('delta =',delta,'. Contains',len(extendedCandidateDiff[delta]),'pairs of families.')"
   ]
  }
 ],
 "metadata": {
  "kernelspec": {
   "display_name": "Python 3",
   "language": "python",
   "name": "python3"
  },
  "language_info": {
   "codemirror_mode": {
    "name": "ipython",
    "version": 3
   },
   "file_extension": ".py",
   "mimetype": "text/x-python",
   "name": "python",
   "nbconvert_exporter": "python",
   "pygments_lexer": "ipython3",
   "version": "3.6.1"
  }
 },
 "nbformat": 4,
 "nbformat_minor": 2
}
