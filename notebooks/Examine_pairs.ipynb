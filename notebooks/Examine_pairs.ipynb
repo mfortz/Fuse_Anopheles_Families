{
 "cells": [
  {
   "cell_type": "markdown",
   "metadata": {},
   "source": [
    "# Examine family pairs"
   ]
  },
  {
   "cell_type": "markdown",
   "metadata": {},
   "source": [
    "Output a file of silhouette scores before and after joining families"
   ]
  },
  {
   "cell_type": "code",
   "execution_count": 1,
   "metadata": {
    "collapsed": true
   },
   "outputs": [],
   "source": [
    "import sys\n",
    "\n",
    "% run -i ../scripts/structures/main.py ../data/gene_families/modified_ALL_GENE_file"
   ]
  },
  {
   "cell_type": "code",
   "execution_count": 2,
   "metadata": {
    "collapsed": true
   },
   "outputs": [],
   "source": [
    "# Open file with similarity scores\n",
    "scoreFile = open(\"../data/GenFamClust_files/GenFam.syc\").readlines()\n",
    "\n",
    "# Translate GenFam index to true gene names\n",
    "\n",
    "translation = open(\"../data/GenFamClust_files/gene_name_translation.txt\", 'r').readlines()\n",
    "\n",
    "geneName = {}\n",
    "\n",
    "for l in translation:\n",
    "    x = l.split()\n",
    "    indexName = x[0]\n",
    "    trueName = x[1]\n",
    "    geneName[indexName] = trueName"
   ]
  },
  {
   "cell_type": "code",
   "execution_count": null,
   "metadata": {
    "collapsed": true
   },
   "outputs": [],
   "source": [
    "numEdgesOut = {}\n",
    "\n",
    "for l in scoreFile:\n",
    "    x = l.split()\n",
    "    g1 = geneName[x[0]]\n",
    "    g2 = geneName[x[1]]\n",
    "    \n",
    "    f1 = data.genesDict[g1].family\n",
    "    f2 = data.genesDict[g2].family\n",
    "    \n",
    "    if f1 != f2:\n",
    "        try:\n",
    "            numEdgesOut[f1] += 1\n",
    "        except KeyError:\n",
    "            numEdgesOut[f1] = 1\n",
    "            \n",
    "for f in data.familiesDict:\n",
    "    if f not in numEdgesOut:\n",
    "        numEdgesOut[f] = 0"
   ]
  },
  {
   "cell_type": "code",
   "execution_count": null,
   "metadata": {
    "collapsed": true
   },
   "outputs": [],
   "source": [
    "pairsDict[('MZ22501608','MZ22509723')]"
   ]
  },
  {
   "cell_type": "code",
   "execution_count": null,
   "metadata": {
    "collapsed": true
   },
   "outputs": [],
   "source": [
    "pairsIn = open(\"../results/joined_families_silhouette/has_edges_full.txt\",'r').readlines()\n",
    "\n",
    "ncSilIn = open(\"../results/nc_silhouette.txt\",'r').readlines()"
   ]
  },
  {
   "cell_type": "code",
   "execution_count": null,
   "metadata": {
    "collapsed": true
   },
   "outputs": [],
   "source": [
    "pairsDict = {}\n",
    "\n",
    "for l in pairsIn[1:]:\n",
    "    x = l.split()\n",
    "    f1 = x[0]\n",
    "    f2 = x[1]\n",
    "    \n",
    "    pairsDict[(f1,f2)] = x[2:]"
   ]
  },
  {
   "cell_type": "code",
   "execution_count": null,
   "metadata": {
    "collapsed": true
   },
   "outputs": [],
   "source": [
    "silhouettesDict = {}\n",
    "\n",
    "for l in ncSilIn[1:]:\n",
    "    x = l.split()\n",
    "    f = x[0]\n",
    "    silhouettesDict[f] = x[1:6]\n"
   ]
  },
  {
   "cell_type": "code",
   "execution_count": null,
   "metadata": {
    "collapsed": true
   },
   "outputs": [],
   "source": [
    "'''\n",
    "outputFile = open(\"../results/examine_candidates.txt\",'w')\n",
    "outputFile.write(\"F1 \\t F2 \\t numVert1 \\t numEdgeIn1 \\t numEdgeOut1 \\t min,max,ave_silhouette1 \\t\")\n",
    "outputFile.write(\"numVert2 \\t numEdgeIn2 \\t numEdgeOut2 \\t min,max,ave_silhouette2 \\t \")\n",
    "outputFile.write(\"numEdgeBetween \\t ave_s1+s2 \\t joined_silhouette \\t difference\\n\")"
   ]
  },
  {
   "cell_type": "code",
   "execution_count": null,
   "metadata": {
    "collapsed": true
   },
   "outputs": [],
   "source": [
    "for (f1,f2) in pairsDict:    \n",
    "    sil1 = silhouettesDict[f1]\n",
    "    sil2 = silhouettesDict[f2]\n",
    "    numV1 = sil1[0]\n",
    "    numV2 = sil2[0]\n",
    "    numE1 = sil1[1]\n",
    "    numE2 = sil2[1]\n",
    "    \n",
    "    numO1 = str(numEdgesOut[f1])\n",
    "    numO2 = str(numEdgesOut[f2])\n",
    "    scores1 = sil1[2:]\n",
    "    scores2 = sil2[2:]\n",
    "    \n",
    "    #cheat for decreasing sig figs\n",
    "    for i in range(len(scores1)):\n",
    "        scores1[i] = scores1[i][:-1]\n",
    "    for i in range(len(scores2)):\n",
    "        scores2[i] = scores2[i][:-1]\n",
    "    \n",
    "    \n",
    "    combined = pairsDict[(f1,f2)]\n",
    "    numEc = combined[0]\n",
    "    silS = combined[4]\n",
    "    silS12 = combined[3]\n",
    "    silDiff = combined[5]\n",
    "    \n",
    "    \n",
    "    if int(numV1) < int(numV2):\n",
    "        output = [f1,f2,numV1,numE1,numO1]\n",
    "        output = output + scores1 + [numV2,numE2,numO2] + scores2 + [numEc,silS,silS12,silDiff]\n",
    "    else:\n",
    "        output = [f2,f1,numV2,numE2,numO2]\n",
    "        output = output + scores2 + [numV1,numE1,numO1] + scores1 + [numEc,silS,silS12,silDiff]\n",
    "    \n",
    "    for x in output:\n",
    "        outputFile.write(x)\n",
    "        outputFile.write(\"\\t\")\n",
    "    outputFile.write(\"\\n\")\n",
    "    "
   ]
  },
  {
   "cell_type": "code",
   "execution_count": null,
   "metadata": {
    "collapsed": true
   },
   "outputs": [],
   "source": [
    "outputFile.close()"
   ]
  },
  {
   "cell_type": "markdown",
   "metadata": {},
   "source": [
    "The output shows many family pairs with multiple edges between them, even pairs that are not a \"shared neighbor, complementary species\" candidates. We suspect that there may be a reason for this so we examine such pairs manually."
   ]
  },
  {
   "cell_type": "code",
   "execution_count": null,
   "metadata": {
    "collapsed": true
   },
   "outputs": [],
   "source": [
    "# Sample pairs for manual examination\n",
    "\n",
    "duplicationCandidates = [('MZ22510001','MZ22501608'), ('MZ22515376','MZ22500095'),\n",
    "                         ('MZ22511978','MZ22511741'),('MZ22520512','MZ22506337')]\n",
    "nonCandidates = [('MZ22524867','MZ22500811'),('MZ22519599','MZ22510151')] \n",
    "weirdPairs = [('MZ22510172','MZ22510014')]"
   ]
  },
  {
   "cell_type": "code",
   "execution_count": 4,
   "metadata": {},
   "outputs": [
    {
     "name": "stdout",
     "output_type": "stream",
     "text": [
      "Anopheles_albimanus\n",
      "Anopheles_arabiensis\n",
      "None\n",
      "None\n",
      "None\n",
      "None\n",
      "None\n",
      "None\n",
      "None\n",
      "None\n",
      "None\n",
      "None\n",
      "None\n",
      "None\n",
      "None\n",
      "Anopheles_quadriannulatus\n",
      "None\n",
      "Anopheles_stephensi\n",
      "\n",
      "\n",
      "Anopheles_albimanus\n",
      "Anopheles_arabiensis\n",
      "None\n",
      "Anopheles_christyi\n",
      "Anopheles_culicifacies\n",
      "None\n",
      "Anopheles_dirus\n",
      "Anopheles_epiroticus\n",
      "None\n",
      "Anopheles_funestus\n",
      "None\n",
      "None\n",
      "Anopheles_melas\n",
      "None\n",
      "Anopheles_minimus\n",
      "Anopheles_quadriannulatus\n",
      "Anopheles_sinensis\n",
      "Anopheles_stephensi\n"
     ]
    }
   ],
   "source": [
    "# print the species in which the families are present\n",
    "\n",
    "pair = ('MZ22524808','MZ22520827')\n",
    "f1 = data.familiesDict[pair[0]] \n",
    "f2 = data.familiesDict[pair[1]]\n",
    "\n",
    "\n",
    "for s in f1.familyMembersDict:\n",
    "    if f1.familyMembersDict[s]:\n",
    "        print(s)\n",
    "    else:\n",
    "        print(\"None\")\n",
    "\n",
    "print('\\n')\n",
    "\n",
    "for s in f2.familyMembersDict:\n",
    "    if f2.familyMembersDict[s]:\n",
    "        print(s)\n",
    "    else:\n",
    "        print(\"None\")\n"
   ]
  },
  {
   "cell_type": "markdown",
   "metadata": {},
   "source": [
    "We examined the gene order of members from the sampled family pair. We found that in most species where both families are present, the two families are adjacent in their contig. We suspect that these family pairs are tandem duplicates. Based on this discovery we defined a new type of candidate exhibiting tandem duplication."
   ]
  }
 ],
 "metadata": {
  "kernelspec": {
   "display_name": "Python 3",
   "language": "python",
   "name": "python3"
  },
  "language_info": {
   "codemirror_mode": {
    "name": "ipython",
    "version": 3
   },
   "file_extension": ".py",
   "mimetype": "text/x-python",
   "name": "python",
   "nbconvert_exporter": "python",
   "pygments_lexer": "ipython3",
   "version": "3.6.1"
  }
 },
 "nbformat": 4,
 "nbformat_minor": 2
}
